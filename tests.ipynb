{
 "cells": [
  {
   "cell_type": "code",
   "execution_count": 11,
   "metadata": {},
   "outputs": [],
   "source": [
    "def islower(c):\n",
    "    ch=ord(c)\n",
    "    if c >= 'a' and c <= 'z':\n",
    "        return True\n",
    "    else:\n",
    "        return False\n"
   ]
  },
  {
   "cell_type": "code",
   "execution_count": null,
   "metadata": {},
   "outputs": [],
   "source": []
  },
  {
   "cell_type": "code",
   "execution_count": 12,
   "metadata": {},
   "outputs": [],
   "source": [
    "def replace_in_list(my_list, idx, element):\n",
    "    if idx >= len(my_list) or idx < 0:\n",
    "        return my_list\n",
    "    my_list[idx] = element\n",
    "    return my_list"
   ]
  },
  {
   "cell_type": "code",
   "execution_count": 13,
   "metadata": {},
   "outputs": [
    {
     "name": "stdout",
     "output_type": "stream",
     "text": [
      "[1, 2, 3, 9, 5]\n",
      "[1, 2, 3, 9, 5]\n"
     ]
    }
   ],
   "source": [
    "#replace_in_list = __import__('2-replace_in_list').replace_in_list\n",
    "\n",
    "my_list = [1, 2, 3, 4, 5]\n",
    "idx = 3\n",
    "new_element = 9\n",
    "new_list = replace_in_list(my_list, idx, new_element)\n",
    "\n",
    "print(new_list)\n",
    "print(my_list)"
   ]
  },
  {
   "cell_type": "code",
   "execution_count": 14,
   "metadata": {},
   "outputs": [
    {
     "name": "stdout",
     "output_type": "stream",
     "text": [
      "a is lower\n",
      "H is upper\n",
      "A is upper\n",
      "3 is upper\n",
      "g is lower\n"
     ]
    }
   ],
   "source": [
    "#!/usr/bin/env python3\n",
    "\n",
    "\n",
    "print(\"a is {}\".format(\"lower\" if islower(\"a\") else \"upper\"))\n",
    "print(\"H is {}\".format(\"lower\" if islower(\"H\") else \"upper\"))\n",
    "print(\"A is {}\".format(\"lower\" if islower(\"A\") else \"upper\"))\n",
    "print(\"3 is {}\".format(\"lower\" if islower(\"3\") else \"upper\"))\n",
    "print(\"g is {}\".format(\"lower\" if islower(\"g\") else \"upper\"))"
   ]
  },
  {
   "cell_type": "code",
   "execution_count": 15,
   "metadata": {},
   "outputs": [
    {
     "ename": "NameError",
     "evalue": "name 'uppercase' is not defined",
     "output_type": "error",
     "traceback": [
      "\u001b[0;31m---------------------------------------------------------------------------\u001b[0m",
      "\u001b[0;31mNameError\u001b[0m                                 Traceback (most recent call last)",
      "Cell \u001b[0;32mIn[15], line 1\u001b[0m\n\u001b[0;32m----> 1\u001b[0m uppercase(\u001b[39m\"\u001b[39m\u001b[39mbest\u001b[39m\u001b[39m\"\u001b[39m)\n\u001b[1;32m      2\u001b[0m uppercase(\u001b[39m\"\u001b[39m\u001b[39mBest School 98 Battery street\u001b[39m\u001b[39m\"\u001b[39m)\n",
      "\u001b[0;31mNameError\u001b[0m: name 'uppercase' is not defined"
     ]
    }
   ],
   "source": [
    "uppercase(\"best\")\n",
    "uppercase(\"Best School 98 Battery street\")"
   ]
  },
  {
   "cell_type": "code",
   "execution_count": null,
   "metadata": {},
   "outputs": [],
   "source": [
    "def pow(a, b):\n",
    "    return b** a\n",
    "\n",
    "print(pow(2, 2))\n",
    "print(pow(98, 2))\n",
    "print(pow(98, 0))\n",
    "print(pow(100, -2))\n",
    "print(pow(-4, 5))"
   ]
  },
  {
   "cell_type": "code",
   "execution_count": null,
   "metadata": {},
   "outputs": [],
   "source": [
    "for a in range(-ord('z'), -ord('a')+1):\n",
    "    if a % 2 == 0:\n",
    "        f = 0\n",
    "    else:\n",
    "        f = 32\n",
    "    print(\"{}\".format(chr(-1*a - f)), end=\"\")\n"
   ]
  },
  {
   "cell_type": "code",
   "execution_count": null,
   "metadata": {},
   "outputs": [],
   "source": [
    "number = 98\n",
    "print(f\"{number:d} Battry street\")"
   ]
  },
  {
   "cell_type": "code",
   "execution_count": null,
   "metadata": {},
   "outputs": [],
   "source": [
    "print(pow(2, 2))\n",
    "print(pow(98, 2))\n",
    "print(pow(98, 0))\n",
    "print(pow(100, -2))\n",
    "print(pow(-4, 5))"
   ]
  },
  {
   "cell_type": "code",
   "execution_count": null,
   "metadata": {},
   "outputs": [],
   "source": [
    "\n",
    "#!/usr/bin/python3\n",
    "def uppercase(str):\n",
    "    for c in str:\n",
    "        if c.islower():\n",
    "            print(\"{}\".format(chr(ord(c)-32)), end=\"\")\n",
    "        else:\n",
    "            print(\"{}\".format(c), end=\"\")\n",
    "    print()\n"
   ]
  },
  {
   "cell_type": "code",
   "execution_count": null,
   "metadata": {},
   "outputs": [],
   "source": [
    "def print_reversed_list_integer(my_list=[]):\n",
    "    for v in range(len(my_list)-1,-1 ,-1):\n",
    "        print(\"{}\".format(my_list[v]))\n",
    "      "
   ]
  },
  {
   "cell_type": "code",
   "execution_count": null,
   "metadata": {},
   "outputs": [
    {
     "name": "stdout",
     "output_type": "stream",
     "text": [
      "5\n",
      "4\n",
      "3\n",
      "2\n",
      "1\n"
     ]
    }
   ],
   "source": [
    "my_list = [1, 2, 3, 4, 5]\n",
    "print_reversed_list_integer(my_list)\n"
   ]
  },
  {
   "cell_type": "code",
   "execution_count": null,
   "metadata": {},
   "outputs": [],
   "source": [
    "def no_c(my_string):\n",
    "    s = \"\"\n",
    "    for i in my_string:\n",
    "        if i != 'c' and i != \"C\":\n",
    "            s += i\n",
    "    return s"
   ]
  },
  {
   "cell_type": "code",
   "execution_count": null,
   "metadata": {},
   "outputs": [
    {
     "name": "stdout",
     "output_type": "stream",
     "text": [
      "Best Shool\n",
      "hiago\n",
      " is fun!\n"
     ]
    }
   ],
   "source": [
    "print(no_c(\"Best School\"))\n",
    "print(no_c(\"Chicago\"))\n",
    "print(no_c(\"C is fun!\"))\n"
   ]
  },
  {
   "cell_type": "code",
   "execution_count": null,
   "metadata": {},
   "outputs": [],
   "source": [
    "def print_matrix_integer(matrix=[[]]):\n",
    "    for i in range(len(matrix)):\n",
    "            print(\" \".join(\"{:d}\".format(p) for p in matrix[i]))\n",
    "    if not matrix:\n",
    "        print()"
   ]
  },
  {
   "cell_type": "code",
   "execution_count": null,
   "metadata": {},
   "outputs": [
    {
     "name": "stdout",
     "output_type": "stream",
     "text": [
      ".....\n",
      "\n"
     ]
    }
   ],
   "source": [
    "matrix = [\n",
    "    [1, 2, 3],\n",
    "    [4, 5, 6],\n",
    "    [7, 8, 9]\n",
    "]\n",
    "print(\".....\")\n",
    "print_matrix_integer()\n"
   ]
  },
  {
   "cell_type": "code",
   "execution_count": null,
   "metadata": {},
   "outputs": [
    {
     "data": {
      "text/plain": [
       "4"
      ]
     },
     "execution_count": 146,
     "metadata": {},
     "output_type": "execute_result"
    }
   ],
   "source": [
    "a = (2,4)\n",
    "a[1]\n"
   ]
  },
  {
   "cell_type": "code",
   "execution_count": null,
   "metadata": {},
   "outputs": [],
   "source": [
    "def add_tuple(tuple_a=(), tuple_b=()):\n",
    "    a= tuple_a + (0,0)\n",
    "    b = tuple_b + (0,0)\n",
    "    \n",
    "    return a[0]+b[0], a[1]+b[1]"
   ]
  },
  {
   "cell_type": "code",
   "execution_count": null,
   "metadata": {},
   "outputs": [
    {
     "name": "stdout",
     "output_type": "stream",
     "text": [
      "(89, 100)\n",
      "(2, 89)\n",
      "(1, 89)\n"
     ]
    }
   ],
   "source": [
    "tuple_a = (1, 89)\n",
    "tuple_b = (88, 11)\n",
    "new_tuple = add_tuple(tuple_a, tuple_b)\n",
    "print(new_tuple)\n",
    "\n",
    "print(add_tuple(tuple_a, (1, )))\n",
    "print(add_tuple(tuple_a, ()))"
   ]
  },
  {
   "cell_type": "code",
   "execution_count": null,
   "metadata": {},
   "outputs": [],
   "source": [
    "def max_integer(my_list=[]):\n",
    "    if len(my_list) == 0:\n",
    "        return None\n",
    "    x = my_list[0]\n",
    "    for i in my_list:\n",
    "        if i > x:\n",
    "            x = i\n",
    "    return x"
   ]
  },
  {
   "cell_type": "code",
   "execution_count": null,
   "metadata": {},
   "outputs": [
    {
     "name": "stdout",
     "output_type": "stream",
     "text": [
      "Max: 90\n"
     ]
    }
   ],
   "source": [
    "\n",
    "my_list = [1, 90, 2, 13, 34, 5, -13, 3]\n",
    "max_value = max_integer(my_list)\n",
    "print(\"Max: {}\".format(max_value))\n"
   ]
  },
  {
   "cell_type": "code",
   "execution_count": null,
   "metadata": {},
   "outputs": [],
   "source": [
    "def divisible_by_2(my_list=[]):\n",
    "    divB2 = []\n",
    "    if len(my_list) == 0:\n",
    "        return None\n",
    "    for i in my_list:\n",
    "        if i % 2 == 0:\n",
    "            divB2.append(True)\n",
    "        else:\n",
    "            divB2.append(False)\n",
    "    return divB2\n"
   ]
  },
  {
   "cell_type": "code",
   "execution_count": 18,
   "metadata": {},
   "outputs": [
    {
     "name": "stdout",
     "output_type": "stream",
     "text": [
      "0 is divisible by 2\n",
      "1 is not divisible by 2\n",
      "2 is divisible by 2\n",
      "3 is not divisible by 2\n",
      "4 is divisible by 2\n",
      "5 is not divisible by 2\n",
      "6 is divisible by 2\n"
     ]
    }
   ],
   "source": [
    "my_list = [0, 1, 2, 3, 4, 5, 6]\n",
    "list_result = divisible_by_2(my_list)\n",
    "\n",
    "\n",
    "i = 0\n",
    "while i < len(list_result):\n",
    "    print(\"{:d} {:s} divisible by 2\".format(my_list[i], \"is\" if list_result[i] else \"is not\"))\n",
    "    i += 1"
   ]
  },
  {
   "cell_type": "code",
   "execution_count": 49,
   "metadata": {},
   "outputs": [],
   "source": [
    "def delete_at(my_list=[], idx=0):\n",
    "    if idx > len(my_list)-1 or idx < 0:\n",
    "        return my_list\n",
    "    li = my_list[:]\n",
    "    li.remove(my_list[idx])\n",
    "    return li"
   ]
  },
  {
   "cell_type": "code",
   "execution_count": 50,
   "metadata": {},
   "outputs": [
    {
     "name": "stdout",
     "output_type": "stream",
     "text": [
      "[1, 2, 3, 5]\n",
      "[1, 2, 3, 4, 5]\n"
     ]
    }
   ],
   "source": [
    "my_list = [1, 2, 3, 4, 5]\n",
    "idx = 3\n",
    "new_list = delete_at(my_list, idx)\n",
    "print(new_list)\n",
    "print(my_list)"
   ]
  },
  {
   "cell_type": "code",
   "execution_count": 53,
   "metadata": {},
   "outputs": [
    {
     "name": "stdout",
     "output_type": "stream",
     "text": [
      "a=10 - b=89\n"
     ]
    }
   ],
   "source": [
    "a = 89\n",
    "b = 10\n",
    "a,b=b,a\n",
    "print(\"a={:d} - b={:d}\".format(a, b))"
   ]
  },
  {
   "cell_type": "code",
   "execution_count": null,
   "metadata": {},
   "outputs": [],
   "source": [
    "if __name__ == '__main__':\n",
    "    import sys\n",
    "    sum = 0\n",
    "    for i in range(len(sys.argv)):\n",
    "        if i == 1:\n",
    "            continue\n",
    "        sum += sys.argv[i]\n"
   ]
  },
  {
   "cell_type": "code",
   "execution_count": 8,
   "metadata": {},
   "outputs": [
    {
     "name": "stdout",
     "output_type": "stream",
     "text": [
      "['__builtins__', '__cached__', '__doc__', '__file__', '__init__', '__loader__', '__name__', '__package__', '__spec__', 'my_secret_santa', 'print_hidden', 'print_school']\n"
     ]
    }
   ],
   "source": [
    "import hidden_4\n",
    "if __name__ == '__main__':\n",
    "  \n",
    "    names = dir(hidden_4)\n",
    "    print(names)"
   ]
  },
  {
   "cell_type": "code",
   "execution_count": 5,
   "metadata": {},
   "outputs": [],
   "source": [
    "def square_matrix_simple(matrix=[]):\n",
    "        li = []\n",
    "        for i in matrix:\n",
    "                li.append(list(map(lambda x: x**2 ,i )))\n",
    "        return li"
   ]
  },
  {
   "cell_type": "code",
   "execution_count": 6,
   "metadata": {},
   "outputs": [
    {
     "name": "stdout",
     "output_type": "stream",
     "text": [
      "[[1, 4, 9], [16, 25, 36], [49, 64, 81]]\n",
      "[[1, 2, 3], [4, 5, 6], [7, 8, 9]]\n"
     ]
    }
   ],
   "source": [
    "matrix = [\n",
    "    [1, 2, 3],\n",
    "    [4, 5, 6],\n",
    "    [7, 8, 9]\n",
    "]\n",
    "\n",
    "new_matrix = square_matrix_simple(matrix)\n",
    "print(new_matrix)\n",
    "print(matrix)"
   ]
  },
  {
   "cell_type": "code",
   "execution_count": 15,
   "metadata": {},
   "outputs": [],
   "source": [
    "def only_diff_elements(set_1, set_2):\n",
    "    re = []\n",
    "    for i in set_2:\n",
    "        for j in set_1:\n",
    "            if i != j:\n",
    "                if i not in re:\n",
    "                    re.append(i)\n",
    "                if j not in re:\n",
    "                    re.append(j)\n",
    "    return re\n"
   ]
  },
  {
   "cell_type": "code",
   "execution_count": 16,
   "metadata": {},
   "outputs": [
    {
     "name": "stdout",
     "output_type": "stream",
     "text": [
      "['Bash', 'C', 'Javascript', 'Perl', 'Python', 'Ruby']\n"
     ]
    }
   ],
   "source": [
    "set_1 = { \"Python\", \"C\", \"Javascript\" }\n",
    "set_2 = { \"Bash\", \"C\", \"Ruby\", \"Perl\" }\n",
    "od_set = only_diff_elements(set_1, set_2)\n",
    "print(sorted(list(od_set)))"
   ]
  },
  {
   "cell_type": "code",
   "execution_count": 19,
   "metadata": {},
   "outputs": [],
   "source": [
    "def search_replace(my_list, search, replace):\n",
    "    List = my_list[:]\n",
    "    for i in range(len(List)):\n",
    "        if List[i] == search:\n",
    "            List[i] = replace\n",
    "    return List"
   ]
  },
  {
   "cell_type": "code",
   "execution_count": 20,
   "metadata": {},
   "outputs": [
    {
     "name": "stdout",
     "output_type": "stream",
     "text": [
      "[1, 89, 3, 4, 5, 4, 89, 1, 1, 4, 89]\n",
      "[1, 2, 3, 4, 5, 4, 2, 1, 1, 4, 89]\n"
     ]
    }
   ],
   "source": [
    "my_list = [1, 2, 3, 4, 5, 4, 2, 1, 1, 4, 89]\n",
    "new_list = search_replace(my_list, 2, 89)\n",
    "\n",
    "print(new_list)\n",
    "print(my_list)"
   ]
  },
  {
   "cell_type": "code",
   "execution_count": 27,
   "metadata": {},
   "outputs": [],
   "source": [
    "def uniq_add(my_list=[]):\n",
    "    sum = 0\n",
    "    s1 = 0\n",
    "    for i in my_list:\n",
    "        f = 0\n",
    "        for j in my_list:\n",
    "            if i == j:\n",
    "                f += 1\n",
    "        if f == 1:\n",
    "            sum += i\n",
    "        else:\n",
    "            s1 += i\n",
    "    sum += int(s1/2)\n",
    "    return sum"
   ]
  },
  {
   "cell_type": "code",
   "execution_count": 30,
   "metadata": {},
   "outputs": [
    {
     "name": "stdout",
     "output_type": "stream",
     "text": [
      "Result: 16\n"
     ]
    }
   ],
   "source": [
    "my_list = [1, 2, 3, 1, 4, 2, 5,1]\n",
    "result = uniq_add(my_list)\n",
    "print(\"Result: {:d}\".format(result))"
   ]
  },
  {
   "cell_type": "code",
   "execution_count": 13,
   "metadata": {},
   "outputs": [],
   "source": [
    "def safe_print_list(my_list=[], x=0):\n",
    "    le = 0\n",
    "    for i in range(0,x):\n",
    "        try:\n",
    "            print(\"{}\".format(my_list[i]),end=\"\")\n",
    "        except:\n",
    "            break\n",
    "        le+=1\n",
    "    print()\n",
    "    return le\n",
    "    \n"
   ]
  },
  {
   "cell_type": "code",
   "execution_count": 14,
   "metadata": {},
   "outputs": [
    {
     "name": "stdout",
     "output_type": "stream",
     "text": [
      "12\n",
      "nb_print: 2\n",
      "12345\n",
      "nb_print: 5\n",
      "12345\n",
      "nb_print: 5\n"
     ]
    }
   ],
   "source": [
    "my_list = [1, 2, 3, 4, 5]\n",
    "\n",
    "nb_print = safe_print_list(my_list, 2)\n",
    "print(\"nb_print: {:d}\".format(nb_print))\n",
    "nb_print = safe_print_list(my_list, len(my_list))\n",
    "print(\"nb_print: {:d}\".format(nb_print))\n",
    "nb_print = safe_print_list(my_list, len(my_list) + 2)\n",
    "print(\"nb_print: {:d}\".format(nb_print))\n"
   ]
  },
  {
   "cell_type": "code",
   "execution_count": 51,
   "metadata": {},
   "outputs": [],
   "source": [
    "def safe_print_list_integers(my_list=[], x=0):\n",
    "    n = 0\n",
    "    for i in range(0,x):\n",
    "        try:\n",
    "            print(\"{:d}\".format(my_list[i]),end=\"\")\n",
    "        except IndexError:\n",
    "            raise\n",
    "        except:\n",
    "            pass\n",
    "        else:\n",
    "            n+=1\n",
    "    print()\n",
    "    return n\n"
   ]
  },
  {
   "cell_type": "code",
   "execution_count": 52,
   "metadata": {},
   "outputs": [
    {
     "name": "stdout",
     "output_type": "stream",
     "text": [
      "12\n",
      "nb_print: 2\n",
      "12345\n",
      "nb_print: 5\n",
      "12345"
     ]
    },
    {
     "ename": "IndexError",
     "evalue": "list index out of range",
     "output_type": "error",
     "traceback": [
      "\u001b[0;31m---------------------------------------------------------------------------\u001b[0m",
      "\u001b[0;31mIndexError\u001b[0m                                Traceback (most recent call last)",
      "Cell \u001b[0;32mIn[52], line 10\u001b[0m\n\u001b[1;32m      7\u001b[0m nb_print \u001b[39m=\u001b[39m safe_print_list_integers(my_list, \u001b[39mlen\u001b[39m(my_list))\n\u001b[1;32m      8\u001b[0m \u001b[39mprint\u001b[39m(\u001b[39m\"\u001b[39m\u001b[39mnb_print: \u001b[39m\u001b[39m{:d}\u001b[39;00m\u001b[39m\"\u001b[39m\u001b[39m.\u001b[39mformat(nb_print))\n\u001b[0;32m---> 10\u001b[0m nb_print \u001b[39m=\u001b[39m safe_print_list_integers(my_list, \u001b[39mlen\u001b[39;49m(my_list) \u001b[39m+\u001b[39;49m \u001b[39m2\u001b[39;49m)\n\u001b[1;32m     11\u001b[0m \u001b[39mprint\u001b[39m(\u001b[39m\"\u001b[39m\u001b[39mnb_print: \u001b[39m\u001b[39m{:d}\u001b[39;00m\u001b[39m\"\u001b[39m\u001b[39m.\u001b[39mformat(nb_print))\n",
      "Cell \u001b[0;32mIn[51], line 5\u001b[0m, in \u001b[0;36msafe_print_list_integers\u001b[0;34m(my_list, x)\u001b[0m\n\u001b[1;32m      3\u001b[0m \u001b[39mfor\u001b[39;00m i \u001b[39min\u001b[39;00m \u001b[39mrange\u001b[39m(\u001b[39m0\u001b[39m,x):\n\u001b[1;32m      4\u001b[0m     \u001b[39mtry\u001b[39;00m:\n\u001b[0;32m----> 5\u001b[0m         \u001b[39mprint\u001b[39m(\u001b[39m\"\u001b[39m\u001b[39m{:d}\u001b[39;00m\u001b[39m\"\u001b[39m\u001b[39m.\u001b[39mformat(my_list[i]),end\u001b[39m=\u001b[39m\u001b[39m\"\u001b[39m\u001b[39m\"\u001b[39m)\n\u001b[1;32m      6\u001b[0m     \u001b[39mexcept\u001b[39;00m \u001b[39mIndexError\u001b[39;00m:\n\u001b[1;32m      7\u001b[0m         \u001b[39mraise\u001b[39;00m\n",
      "\u001b[0;31mIndexError\u001b[0m: list index out of range"
     ]
    }
   ],
   "source": [
    "my_list = [1, 2, 3, 4, 5]\n",
    "\n",
    "nb_print = safe_print_list_integers(my_list, 2)\n",
    "print(\"nb_print: {:d}\".format(nb_print))\n",
    "\n",
    "my_list = [1, 2, 3, \"School\", 4, 5, [1, 2, 3]]\n",
    "nb_print = safe_print_list_integers(my_list, len(my_list))\n",
    "print(\"nb_print: {:d}\".format(nb_print))\n",
    "\n",
    "nb_print = safe_print_list_integers(my_list, len(my_list) + 2)\n",
    "print(\"nb_print: {:d}\".format(nb_print))"
   ]
  },
  {
   "cell_type": "code",
   "execution_count": 55,
   "metadata": {},
   "outputs": [],
   "source": [
    "def list_division(my_list_1, my_list_2, list_length):\n",
    "    res = []\n",
    "    for a in range(list_length):\n",
    "        try:\n",
    "            res.append(my_list_1[a]/my_list_2[a])\n",
    "        except ZeroDivisionError:\n",
    "            print(\"division by 0\")\n",
    "            res.append(0)\n",
    "        except IndexError:\n",
    "            print(\"out of range\")\n",
    "            res.append(0)\n",
    "        except TypeError:\n",
    "            res.append(0)\n",
    "            print(\"wrong type\")\n",
    "        finally:\n",
    "            {}\n",
    "    return res"
   ]
  },
  {
   "cell_type": "code",
   "execution_count": 56,
   "metadata": {},
   "outputs": [
    {
     "name": "stdout",
     "output_type": "stream",
     "text": [
      "[5.0, 2.0, 1.0]\n",
      "--\n",
      "division by 0\n",
      "wrong type\n",
      "out of range\n",
      "[5.0, 0, 0, 2.0, 0]\n"
     ]
    }
   ],
   "source": [
    "my_l_1 = [10, 8, 4]\n",
    "my_l_2 = [2, 4, 4]\n",
    "result = list_division(my_l_1, my_l_2, max(len(my_l_1), len(my_l_2)))\n",
    "print(result)\n",
    "\n",
    "print(\"--\")\n",
    "\n",
    "my_l_1 = [10, 8, 4, 4]\n",
    "my_l_2 = [2, 0, \"H\", 2, 7]\n",
    "result = list_division(my_l_1, my_l_2, max(len(my_l_1), len(my_l_2)))\n",
    "print(result)\n"
   ]
  },
  {
   "cell_type": "code",
   "execution_count": 16,
   "metadata": {},
   "outputs": [
    {
     "name": "stdout",
     "output_type": "stream",
     "text": [
      "{'identity': 'Lion', 'age': '10'}\n"
     ]
    }
   ],
   "source": [
    "class square:\n",
    "    def __init__(self):\n",
    "        self.a = {}\n",
    "class AnimalClass:  \n",
    "    def __init__(self,identity,age):  \n",
    "        self.identity = identity  \n",
    "        self.age = age  \n",
    "      \n",
    "    def feature(self):  \n",
    "        if self.age == \"10\":  \n",
    "            return True  \n",
    "        else:  \n",
    "            return False  \n",
    "ac = AnimalClass('Lion','10')  \n",
    "print(ac.__dict__)  \n",
    "        "
   ]
  },
  {
   "cell_type": "code",
   "execution_count": 17,
   "metadata": {},
   "outputs": [
    {
     "name": "stdout",
     "output_type": "stream",
     "text": [
      "A square class \n"
     ]
    }
   ],
   "source": [
    "#!/usr/bin/python3\n",
    "\"\"\"This module contains a square class\n",
    "and contain a constracter that accept a variable \n",
    "size and assign to the private attribute of the class\n",
    "\"\"\"\n",
    "\n",
    "\n",
    "class square():\n",
    "    \"\"\"A square class \"\"\"\n",
    "\n",
    "    def __init__(self, size):\n",
    "        \"\"\"Initialization of the class\"\"\"\n",
    "        self.__size = size\n",
    "\n"
   ]
  },
  {
   "cell_type": "code",
   "execution_count": 18,
   "metadata": {},
   "outputs": [
    {
     "name": "stdout",
     "output_type": "stream",
     "text": [
      "A square class \n"
     ]
    }
   ],
   "source": [
    "print(square.__doc__)"
   ]
  },
  {
   "cell_type": "code",
   "execution_count": 9,
   "metadata": {},
   "outputs": [
    {
     "name": "stdout",
     "output_type": "stream",
     "text": [
      "BestSchool\n",
      "BestSchool, BestSchool\n",
      "BestSchool, BestSchool, BestSchool\n",
      "BestSchool, BestSchool, BestSchool, BestSchool\n",
      "BestSchool, BestSchool, BestSchool, BestSchool, BestSchool\n",
      "BestSchool, BestSchool, BestSchool, BestSchool, BestSchool, BestSchool\n",
      "BestSchool, BestSchool, BestSchool, BestSchool, BestSchool, BestSchool, BestSchool\n",
      "BestSchool, BestSchool, BestSchool, BestSchool, BestSchool, BestSchool, BestSchool, BestSchool\n",
      "BestSchool, BestSchool, BestSchool, BestSchool, BestSchool, BestSchool, BestSchool, BestSchool, BestSchool\n",
      "BestSchool, BestSchool, BestSchool, BestSchool, BestSchool, BestSchool, BestSchool, BestSchool, BestSchool, BestSchool\n"
     ]
    }
   ],
   "source": [
    "def magic_string():\n",
    "        setattr(magic_string,'c',getattr(magic_string,'c',-1)+1)\n",
    "        return \"BestSchool\"+\", BestSchool\"*magic_string.c\n",
    "for i in range(10):\n",
    "    print(magic_string())"
   ]
  },
  {
   "cell_type": "code",
   "execution_count": 11,
   "metadata": {},
   "outputs": [
    {
     "name": "stdout",
     "output_type": "stream",
     "text": [
      "[AttributeError] 'LockedClass' object has no attribute 'last_name'\n"
     ]
    }
   ],
   "source": [
    "class LockedClass:\n",
    "    __slots__ = [\"first_name\"]\n",
    "\n",
    "lc = LockedClass()\n",
    "lc.first_name = \"John\"\n",
    "try:\n",
    "    lc.last_name = \"Snow\"\n",
    "except Exception as e:\n",
    "    print(\"[{}] {}\".format(e.__class__.__name__, e))"
   ]
  },
  {
   "cell_type": "code",
   "execution_count": 3,
   "metadata": {},
   "outputs": [
    {
     "name": "stdout",
     "output_type": "stream",
     "text": [
      "Area: 8 - Perimeter: 12\n",
      "##\n",
      "##\n",
      "##\n",
      "##\n",
      "<__main__.Rectangle object at 0x7f8a48727f40>\n",
      "--\n",
      "##########\n",
      "##########\n",
      "##########\n",
      "<__main__.Rectangle object at 0x7f8a48727f40>\n"
     ]
    }
   ],
   "source": [
    "#!/usr/bin/python3\n",
    "\"\"\"This is a module for a class Rectangle\"\"\"\n",
    "\n",
    "\n",
    "class Rectangle:\n",
    "    \"\"\"Class of a Rectangle\"\"\"\n",
    "\n",
    "    def __init__(self, width=0, height=0):\n",
    "        \"\"\"Initialize class\"\"\"\n",
    "        self.height = height\n",
    "        self.width = width\n",
    "\n",
    "    @property\n",
    "    def width(self):\n",
    "        \"\"\"to get width\"\"\"\n",
    "        return self.__width\n",
    "\n",
    "    @width.setter\n",
    "    def width(self, value):\n",
    "        \"\"\"to set width\"\"\"\n",
    "        if type(value) != int:\n",
    "            raise TypeError(\"width must be an integer\")\n",
    "        if value < 0:\n",
    "            raise ValueError(\"width must be >= 0\")\n",
    "        self.__width = value\n",
    "\n",
    "    @property\n",
    "    def height(self):\n",
    "        \"\"\"Get height\"\"\"\n",
    "        return self.__height\n",
    "\n",
    "    @height.setter\n",
    "    def height(self, value):\n",
    "        \"\"\"Set height\"\"\"\n",
    "        if type(value) != int:\n",
    "            raise TypeError(\"height must be an integer\")\n",
    "        if value < 0:\n",
    "            raise ValueError(\"height must be >= 0\")\n",
    "        self.__height = value\n",
    "\n",
    "    def area(self):\n",
    "        \"\"\"Calculate area\"\"\"\n",
    "        return self.__height*self.__width\n",
    "\n",
    "    def perimeter(self):\n",
    "        \"\"\"calculate perimeter\"\"\"\n",
    "        return 2*(self.__width+self.__height)\n",
    "\n",
    "    def __str__(self):\n",
    "        \"\"\"Get the string representation\"\"\"\n",
    "        s = \"\"\n",
    "        width = self.__width\n",
    "        height = self.__height\n",
    "        if width == 0 or height == 0:\n",
    "            return s\n",
    "        for i in range(height):\n",
    "            for j in range(width):\n",
    "                s = s + \"#\"\n",
    "            s = s + \"\\n\"\n",
    "        return s[:-1]\n",
    "\n",
    "my_rectangle = Rectangle(2, 4)\n",
    "print(\"Area: {} - Perimeter: {}\".format(my_rectangle.area(), my_rectangle.perimeter()))\n",
    "\n",
    "print(str(my_rectangle))\n",
    "print(repr(my_rectangle))\n",
    "\n",
    "print(\"--\")\n",
    "\n",
    "my_rectangle.width = 10\n",
    "my_rectangle.height = 3\n",
    "print(my_rectangle)\n",
    "print(repr(my_rectangle))"
   ]
  }
 ],
 "metadata": {
  "kernelspec": {
   "display_name": "Python 3",
   "language": "python",
   "name": "python3"
  },
  "language_info": {
   "codemirror_mode": {
    "name": "ipython",
    "version": 3
   },
   "file_extension": ".py",
   "mimetype": "text/x-python",
   "name": "python",
   "nbconvert_exporter": "python",
   "pygments_lexer": "ipython3",
   "version": "3.8.10"
  },
  "orig_nbformat": 4
 },
 "nbformat": 4,
 "nbformat_minor": 2
}
