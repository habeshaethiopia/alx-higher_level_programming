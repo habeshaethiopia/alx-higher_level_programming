{
 "cells": [
  {
   "cell_type": "code",
   "execution_count": null,
   "metadata": {},
   "outputs": [],
   "source": [
    "def islower(c):\n",
    "    ch=ord(c)\n",
    "    if c >= 'a' and c <= 'z':\n",
    "        return True\n",
    "    else:\n",
    "        return False\n"
   ]
  },
  {
   "cell_type": "code",
   "execution_count": null,
   "metadata": {},
   "outputs": [],
   "source": [
    "#!/usr/bin/env python3\n",
    "\n",
    "\n",
    "print(\"a is {}\".format(\"lower\" if islower(\"a\") else \"upper\"))\n",
    "print(\"H is {}\".format(\"lower\" if islower(\"H\") else \"upper\"))\n",
    "print(\"A is {}\".format(\"lower\" if islower(\"A\") else \"upper\"))\n",
    "print(\"3 is {}\".format(\"lower\" if islower(\"3\") else \"upper\"))\n",
    "print(\"g is {}\".format(\"lower\" if islower(\"g\") else \"upper\"))"
   ]
  },
  {
   "cell_type": "code",
   "execution_count": null,
   "metadata": {},
   "outputs": [],
   "source": [
    "uppercase(\"best\")\n",
    "uppercase(\"Best School 98 Battery street\")"
   ]
  },
  {
   "cell_type": "code",
   "execution_count": null,
   "metadata": {},
   "outputs": [],
   "source": [
    "def pow(a, b):\n",
    "    return b** a\n",
    "\n",
    "print(pow(2, 2))\n",
    "print(pow(98, 2))\n",
    "print(pow(98, 0))\n",
    "print(pow(100, -2))\n",
    "print(pow(-4, 5))"
   ]
  },
  {
   "cell_type": "code",
   "execution_count": null,
   "metadata": {},
   "outputs": [],
   "source": [
    "for a in range(-ord('z'), -ord('a')+1):\n",
    "    if a % 2 == 0:\n",
    "        f = 0\n",
    "    else:\n",
    "        f = 32\n",
    "    print(\"{}\".format(chr(-1*a - f)), end=\"\")\n"
   ]
  },
  {
   "cell_type": "code",
   "execution_count": null,
   "metadata": {},
   "outputs": [],
   "source": [
    "number = 98\n",
    "print(f\"{number:d} Battry street\")"
   ]
  },
  {
   "cell_type": "code",
   "execution_count": null,
   "metadata": {},
   "outputs": [],
   "source": [
    "print(pow(2, 2))\n",
    "print(pow(98, 2))\n",
    "print(pow(98, 0))\n",
    "print(pow(100, -2))\n",
    "print(pow(-4, 5))"
   ]
  },
  {
   "cell_type": "code",
   "execution_count": null,
   "metadata": {},
   "outputs": [],
   "source": [
    "\n",
    "#!/usr/bin/python3\n",
    "def uppercase(str):\n",
    "    for c in str:\n",
    "        if c.islower():\n",
    "            print(\"{}\".format(chr(ord(c)-32)), end=\"\")\n",
    "        else:\n",
    "            print(\"{}\".format(c), end=\"\")\n",
    "    print()\n"
   ]
  },
  {
   "cell_type": "code",
   "execution_count": null,
   "metadata": {},
   "outputs": [],
   "source": []
  }
 ],
 "metadata": {
  "kernelspec": {
   "display_name": "Python 3",
   "language": "python",
   "name": "python3"
  },
  "language_info": {
   "codemirror_mode": {
    "name": "ipython",
    "version": 3
   },
   "file_extension": ".py",
   "mimetype": "text/x-python",
   "name": "python",
   "nbconvert_exporter": "python",
   "pygments_lexer": "ipython3",
   "version": "3.8.10"
  },
  "orig_nbformat": 4
 },
 "nbformat": 4,
 "nbformat_minor": 2
}
