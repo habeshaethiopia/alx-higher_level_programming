{
 "cells": [
  {
   "cell_type": "code",
   "execution_count": 122,
   "metadata": {},
   "outputs": [],
   "source": [
    "def islower(c):\n",
    "    ch=ord(c)\n",
    "    if c >= 'a' and c <= 'z':\n",
    "        return True\n",
    "    else:\n",
    "        return False\n"
   ]
  },
  {
   "cell_type": "code",
   "execution_count": 123,
   "metadata": {},
   "outputs": [],
   "source": [
    "def replace_in_list(my_list, idx, element):\n",
    "    if idx >= len(my_list) or idx < 0:\n",
    "        return my_list\n",
    "    my_list[idx] = element\n",
    "    return my_list"
   ]
  },
  {
   "cell_type": "code",
   "execution_count": 124,
   "metadata": {},
   "outputs": [
    {
     "name": "stdout",
     "output_type": "stream",
     "text": [
      "[1, 2, 3, 9, 5]\n",
      "[1, 2, 3, 9, 5]\n"
     ]
    }
   ],
   "source": [
    "#replace_in_list = __import__('2-replace_in_list').replace_in_list\n",
    "\n",
    "my_list = [1, 2, 3, 4, 5]\n",
    "idx = 3\n",
    "new_element = 9\n",
    "new_list = replace_in_list(my_list, idx, new_element)\n",
    "\n",
    "print(new_list)\n",
    "print(my_list)"
   ]
  },
  {
   "cell_type": "code",
   "execution_count": 125,
   "metadata": {},
   "outputs": [
    {
     "name": "stdout",
     "output_type": "stream",
     "text": [
      "a is lower\n",
      "H is upper\n",
      "A is upper\n",
      "3 is upper\n",
      "g is lower\n"
     ]
    }
   ],
   "source": [
    "#!/usr/bin/env python3\n",
    "\n",
    "\n",
    "print(\"a is {}\".format(\"lower\" if islower(\"a\") else \"upper\"))\n",
    "print(\"H is {}\".format(\"lower\" if islower(\"H\") else \"upper\"))\n",
    "print(\"A is {}\".format(\"lower\" if islower(\"A\") else \"upper\"))\n",
    "print(\"3 is {}\".format(\"lower\" if islower(\"3\") else \"upper\"))\n",
    "print(\"g is {}\".format(\"lower\" if islower(\"g\") else \"upper\"))"
   ]
  },
  {
   "cell_type": "code",
   "execution_count": 126,
   "metadata": {},
   "outputs": [
    {
     "ename": "NameError",
     "evalue": "name 'uppercase' is not defined",
     "output_type": "error",
     "traceback": [
      "\u001b[0;31m---------------------------------------------------------------------------\u001b[0m",
      "\u001b[0;31mNameError\u001b[0m                                 Traceback (most recent call last)",
      "Cell \u001b[0;32mIn[126], line 1\u001b[0m\n\u001b[0;32m----> 1\u001b[0m uppercase(\u001b[39m\"\u001b[39m\u001b[39mbest\u001b[39m\u001b[39m\"\u001b[39m)\n\u001b[1;32m      2\u001b[0m uppercase(\u001b[39m\"\u001b[39m\u001b[39mBest School 98 Battery street\u001b[39m\u001b[39m\"\u001b[39m)\n",
      "\u001b[0;31mNameError\u001b[0m: name 'uppercase' is not defined"
     ]
    }
   ],
   "source": [
    "uppercase(\"best\")\n",
    "uppercase(\"Best School 98 Battery street\")"
   ]
  },
  {
   "cell_type": "code",
   "execution_count": null,
   "metadata": {},
   "outputs": [],
   "source": [
    "def pow(a, b):\n",
    "    return b** a\n",
    "\n",
    "print(pow(2, 2))\n",
    "print(pow(98, 2))\n",
    "print(pow(98, 0))\n",
    "print(pow(100, -2))\n",
    "print(pow(-4, 5))"
   ]
  },
  {
   "cell_type": "code",
   "execution_count": null,
   "metadata": {},
   "outputs": [],
   "source": [
    "for a in range(-ord('z'), -ord('a')+1):\n",
    "    if a % 2 == 0:\n",
    "        f = 0\n",
    "    else:\n",
    "        f = 32\n",
    "    print(\"{}\".format(chr(-1*a - f)), end=\"\")\n"
   ]
  },
  {
   "cell_type": "code",
   "execution_count": null,
   "metadata": {},
   "outputs": [],
   "source": [
    "number = 98\n",
    "print(f\"{number:d} Battry street\")"
   ]
  },
  {
   "cell_type": "code",
   "execution_count": null,
   "metadata": {},
   "outputs": [],
   "source": [
    "print(pow(2, 2))\n",
    "print(pow(98, 2))\n",
    "print(pow(98, 0))\n",
    "print(pow(100, -2))\n",
    "print(pow(-4, 5))"
   ]
  },
  {
   "cell_type": "code",
   "execution_count": null,
   "metadata": {},
   "outputs": [],
   "source": [
    "\n",
    "#!/usr/bin/python3\n",
    "def uppercase(str):\n",
    "    for c in str:\n",
    "        if c.islower():\n",
    "            print(\"{}\".format(chr(ord(c)-32)), end=\"\")\n",
    "        else:\n",
    "            print(\"{}\".format(c), end=\"\")\n",
    "    print()\n"
   ]
  },
  {
   "cell_type": "code",
   "execution_count": null,
   "metadata": {},
   "outputs": [],
   "source": [
    "def print_reversed_list_integer(my_list=[]):\n",
    "    for v in range(len(my_list)-1,-1 ,-1):\n",
    "        print(\"{}\".format(my_list[v]))\n",
    "      "
   ]
  },
  {
   "cell_type": "code",
   "execution_count": null,
   "metadata": {},
   "outputs": [
    {
     "name": "stdout",
     "output_type": "stream",
     "text": [
      "5\n",
      "4\n",
      "3\n",
      "2\n",
      "1\n"
     ]
    }
   ],
   "source": [
    "my_list = [1, 2, 3, 4, 5]\n",
    "print_reversed_list_integer(my_list)\n"
   ]
  },
  {
   "cell_type": "code",
   "execution_count": null,
   "metadata": {},
   "outputs": [],
   "source": [
    "def no_c(my_string):\n",
    "    s = \"\"\n",
    "    for i in my_string:\n",
    "        if i != 'c' and i != \"C\":\n",
    "            s += i\n",
    "    return s"
   ]
  },
  {
   "cell_type": "code",
   "execution_count": null,
   "metadata": {},
   "outputs": [
    {
     "name": "stdout",
     "output_type": "stream",
     "text": [
      "Best Shool\n",
      "hiago\n",
      " is fun!\n"
     ]
    }
   ],
   "source": [
    "print(no_c(\"Best School\"))\n",
    "print(no_c(\"Chicago\"))\n",
    "print(no_c(\"C is fun!\"))\n"
   ]
  },
  {
   "cell_type": "code",
   "execution_count": 133,
   "metadata": {},
   "outputs": [],
   "source": [
    "def print_matrix_integer(matrix=[[]]):\n",
    "    d = \" \"\n",
    "    if matrix:\n",
    "        for i in range(len(matrix)):\n",
    "            for j in range(len(matrix[i])):\n",
    "                print(\"{:d}\".format(matrix[i][j]), end=d)\n",
    "                if j == len(matrix[i])-2:\n",
    "                    d = \"\\n\"\n",
    "                else:\n",
    "                    d = \" \""
   ]
  },
  {
   "cell_type": "code",
   "execution_count": 134,
   "metadata": {},
   "outputs": [
    {
     "name": "stdout",
     "output_type": "stream",
     "text": [
      "1 2 3\n",
      "4 5 6\n",
      "7 8 9\n",
      "--\n"
     ]
    }
   ],
   "source": [
    "matrix = [\n",
    "    [1, 2, 3],\n",
    "    [4, 5, 6],\n",
    "    [7, 8, 9]\n",
    "]\n",
    "\n",
    "print_matrix_integer(matrix)\n",
    "print(\"--\")\n",
    "print_matrix_integer()\n"
   ]
  }
 ],
 "metadata": {
  "kernelspec": {
   "display_name": "Python 3",
   "language": "python",
   "name": "python3"
  },
  "language_info": {
   "codemirror_mode": {
    "name": "ipython",
    "version": 3
   },
   "file_extension": ".py",
   "mimetype": "text/x-python",
   "name": "python",
   "nbconvert_exporter": "python",
   "pygments_lexer": "ipython3",
   "version": "3.8.10"
  },
  "orig_nbformat": 4
 },
 "nbformat": 4,
 "nbformat_minor": 2
}
