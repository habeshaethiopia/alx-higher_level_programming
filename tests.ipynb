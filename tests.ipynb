{
 "cells": [
  {
   "cell_type": "code",
   "execution_count": 11,
   "metadata": {},
   "outputs": [],
   "source": [
    "def islower(c):\n",
    "    ch=ord(c)\n",
    "    if c >= 'a' and c <= 'z':\n",
    "        return True\n",
    "    else:\n",
    "        return False\n"
   ]
  },
  {
   "cell_type": "code",
   "execution_count": 12,
   "metadata": {},
   "outputs": [],
   "source": [
    "def replace_in_list(my_list, idx, element):\n",
    "    if idx >= len(my_list) or idx < 0:\n",
    "        return my_list\n",
    "    my_list[idx] = element\n",
    "    return my_list"
   ]
  },
  {
   "cell_type": "code",
   "execution_count": 13,
   "metadata": {},
   "outputs": [
    {
     "name": "stdout",
     "output_type": "stream",
     "text": [
      "[1, 2, 3, 9, 5]\n",
      "[1, 2, 3, 9, 5]\n"
     ]
    }
   ],
   "source": [
    "#replace_in_list = __import__('2-replace_in_list').replace_in_list\n",
    "\n",
    "my_list = [1, 2, 3, 4, 5]\n",
    "idx = 3\n",
    "new_element = 9\n",
    "new_list = replace_in_list(my_list, idx, new_element)\n",
    "\n",
    "print(new_list)\n",
    "print(my_list)"
   ]
  },
  {
   "cell_type": "code",
   "execution_count": 14,
   "metadata": {},
   "outputs": [
    {
     "name": "stdout",
     "output_type": "stream",
     "text": [
      "a is lower\n",
      "H is upper\n",
      "A is upper\n",
      "3 is upper\n",
      "g is lower\n"
     ]
    }
   ],
   "source": [
    "#!/usr/bin/env python3\n",
    "\n",
    "\n",
    "print(\"a is {}\".format(\"lower\" if islower(\"a\") else \"upper\"))\n",
    "print(\"H is {}\".format(\"lower\" if islower(\"H\") else \"upper\"))\n",
    "print(\"A is {}\".format(\"lower\" if islower(\"A\") else \"upper\"))\n",
    "print(\"3 is {}\".format(\"lower\" if islower(\"3\") else \"upper\"))\n",
    "print(\"g is {}\".format(\"lower\" if islower(\"g\") else \"upper\"))"
   ]
  },
  {
   "cell_type": "code",
   "execution_count": 15,
   "metadata": {},
   "outputs": [
    {
     "ename": "NameError",
     "evalue": "name 'uppercase' is not defined",
     "output_type": "error",
     "traceback": [
      "\u001b[0;31m---------------------------------------------------------------------------\u001b[0m",
      "\u001b[0;31mNameError\u001b[0m                                 Traceback (most recent call last)",
      "Cell \u001b[0;32mIn[15], line 1\u001b[0m\n\u001b[0;32m----> 1\u001b[0m uppercase(\u001b[39m\"\u001b[39m\u001b[39mbest\u001b[39m\u001b[39m\"\u001b[39m)\n\u001b[1;32m      2\u001b[0m uppercase(\u001b[39m\"\u001b[39m\u001b[39mBest School 98 Battery street\u001b[39m\u001b[39m\"\u001b[39m)\n",
      "\u001b[0;31mNameError\u001b[0m: name 'uppercase' is not defined"
     ]
    }
   ],
   "source": [
    "uppercase(\"best\")\n",
    "uppercase(\"Best School 98 Battery street\")"
   ]
  },
  {
   "cell_type": "code",
   "execution_count": null,
   "metadata": {},
   "outputs": [],
   "source": [
    "def pow(a, b):\n",
    "    return b** a\n",
    "\n",
    "print(pow(2, 2))\n",
    "print(pow(98, 2))\n",
    "print(pow(98, 0))\n",
    "print(pow(100, -2))\n",
    "print(pow(-4, 5))"
   ]
  },
  {
   "cell_type": "code",
   "execution_count": null,
   "metadata": {},
   "outputs": [],
   "source": [
    "for a in range(-ord('z'), -ord('a')+1):\n",
    "    if a % 2 == 0:\n",
    "        f = 0\n",
    "    else:\n",
    "        f = 32\n",
    "    print(\"{}\".format(chr(-1*a - f)), end=\"\")\n"
   ]
  },
  {
   "cell_type": "code",
   "execution_count": null,
   "metadata": {},
   "outputs": [],
   "source": [
    "number = 98\n",
    "print(f\"{number:d} Battry street\")"
   ]
  },
  {
   "cell_type": "code",
   "execution_count": null,
   "metadata": {},
   "outputs": [],
   "source": [
    "print(pow(2, 2))\n",
    "print(pow(98, 2))\n",
    "print(pow(98, 0))\n",
    "print(pow(100, -2))\n",
    "print(pow(-4, 5))"
   ]
  },
  {
   "cell_type": "code",
   "execution_count": null,
   "metadata": {},
   "outputs": [],
   "source": [
    "\n",
    "#!/usr/bin/python3\n",
    "def uppercase(str):\n",
    "    for c in str:\n",
    "        if c.islower():\n",
    "            print(\"{}\".format(chr(ord(c)-32)), end=\"\")\n",
    "        else:\n",
    "            print(\"{}\".format(c), end=\"\")\n",
    "    print()\n"
   ]
  },
  {
   "cell_type": "code",
   "execution_count": null,
   "metadata": {},
   "outputs": [],
   "source": [
    "def print_reversed_list_integer(my_list=[]):\n",
    "    for v in range(len(my_list)-1,-1 ,-1):\n",
    "        print(\"{}\".format(my_list[v]))\n",
    "      "
   ]
  },
  {
   "cell_type": "code",
   "execution_count": null,
   "metadata": {},
   "outputs": [
    {
     "name": "stdout",
     "output_type": "stream",
     "text": [
      "5\n",
      "4\n",
      "3\n",
      "2\n",
      "1\n"
     ]
    }
   ],
   "source": [
    "my_list = [1, 2, 3, 4, 5]\n",
    "print_reversed_list_integer(my_list)\n"
   ]
  },
  {
   "cell_type": "code",
   "execution_count": null,
   "metadata": {},
   "outputs": [],
   "source": [
    "def no_c(my_string):\n",
    "    s = \"\"\n",
    "    for i in my_string:\n",
    "        if i != 'c' and i != \"C\":\n",
    "            s += i\n",
    "    return s"
   ]
  },
  {
   "cell_type": "code",
   "execution_count": null,
   "metadata": {},
   "outputs": [
    {
     "name": "stdout",
     "output_type": "stream",
     "text": [
      "Best Shool\n",
      "hiago\n",
      " is fun!\n"
     ]
    }
   ],
   "source": [
    "print(no_c(\"Best School\"))\n",
    "print(no_c(\"Chicago\"))\n",
    "print(no_c(\"C is fun!\"))\n"
   ]
  },
  {
   "cell_type": "code",
   "execution_count": null,
   "metadata": {},
   "outputs": [],
   "source": [
    "def print_matrix_integer(matrix=[[]]):\n",
    "    for i in range(len(matrix)):\n",
    "            print(\" \".join(\"{:d}\".format(p) for p in matrix[i]))\n",
    "    if not matrix:\n",
    "        print()"
   ]
  },
  {
   "cell_type": "code",
   "execution_count": null,
   "metadata": {},
   "outputs": [
    {
     "name": "stdout",
     "output_type": "stream",
     "text": [
      ".....\n",
      "\n"
     ]
    }
   ],
   "source": [
    "matrix = [\n",
    "    [1, 2, 3],\n",
    "    [4, 5, 6],\n",
    "    [7, 8, 9]\n",
    "]\n",
    "print(\".....\")\n",
    "print_matrix_integer()\n"
   ]
  },
  {
   "cell_type": "code",
   "execution_count": null,
   "metadata": {},
   "outputs": [
    {
     "data": {
      "text/plain": [
       "4"
      ]
     },
     "execution_count": 146,
     "metadata": {},
     "output_type": "execute_result"
    }
   ],
   "source": [
    "a = (2,4)\n",
    "a[1]\n"
   ]
  },
  {
   "cell_type": "code",
   "execution_count": null,
   "metadata": {},
   "outputs": [],
   "source": [
    "def add_tuple(tuple_a=(), tuple_b=()):\n",
    "    a= tuple_a + (0,0)\n",
    "    b = tuple_b + (0,0)\n",
    "    \n",
    "    return a[0]+b[0], a[1]+b[1]"
   ]
  },
  {
   "cell_type": "code",
   "execution_count": null,
   "metadata": {},
   "outputs": [
    {
     "name": "stdout",
     "output_type": "stream",
     "text": [
      "(89, 100)\n",
      "(2, 89)\n",
      "(1, 89)\n"
     ]
    }
   ],
   "source": [
    "tuple_a = (1, 89)\n",
    "tuple_b = (88, 11)\n",
    "new_tuple = add_tuple(tuple_a, tuple_b)\n",
    "print(new_tuple)\n",
    "\n",
    "print(add_tuple(tuple_a, (1, )))\n",
    "print(add_tuple(tuple_a, ()))"
   ]
  },
  {
   "cell_type": "code",
   "execution_count": null,
   "metadata": {},
   "outputs": [],
   "source": [
    "def max_integer(my_list=[]):\n",
    "    if len(my_list) == 0:\n",
    "        return None\n",
    "    x = my_list[0]\n",
    "    for i in my_list:\n",
    "        if i > x:\n",
    "            x = i\n",
    "    return x"
   ]
  },
  {
   "cell_type": "code",
   "execution_count": null,
   "metadata": {},
   "outputs": [
    {
     "name": "stdout",
     "output_type": "stream",
     "text": [
      "Max: 90\n"
     ]
    }
   ],
   "source": [
    "\n",
    "my_list = [1, 90, 2, 13, 34, 5, -13, 3]\n",
    "max_value = max_integer(my_list)\n",
    "print(\"Max: {}\".format(max_value))\n"
   ]
  },
  {
   "cell_type": "code",
   "execution_count": null,
   "metadata": {},
   "outputs": [],
   "source": [
    "def divisible_by_2(my_list=[]):\n",
    "    divB2 = []\n",
    "    if len(my_list) == 0:\n",
    "        return None\n",
    "    for i in my_list:\n",
    "        if i % 2 == 0:\n",
    "            divB2.append(True)\n",
    "        else:\n",
    "            divB2.append(False)\n",
    "    return divB2\n"
   ]
  },
  {
   "cell_type": "code",
   "execution_count": 18,
   "metadata": {},
   "outputs": [
    {
     "name": "stdout",
     "output_type": "stream",
     "text": [
      "0 is divisible by 2\n",
      "1 is not divisible by 2\n",
      "2 is divisible by 2\n",
      "3 is not divisible by 2\n",
      "4 is divisible by 2\n",
      "5 is not divisible by 2\n",
      "6 is divisible by 2\n"
     ]
    }
   ],
   "source": [
    "my_list = [0, 1, 2, 3, 4, 5, 6]\n",
    "list_result = divisible_by_2(my_list)\n",
    "\n",
    "\n",
    "i = 0\n",
    "while i < len(list_result):\n",
    "    print(\"{:d} {:s} divisible by 2\".format(my_list[i], \"is\" if list_result[i] else \"is not\"))\n",
    "    i += 1"
   ]
  },
  {
   "cell_type": "code",
   "execution_count": 49,
   "metadata": {},
   "outputs": [],
   "source": [
    "def delete_at(my_list=[], idx=0):\n",
    "    if idx > len(my_list)-1 or idx < 0:\n",
    "        return my_list\n",
    "    li = my_list[:]\n",
    "    li.remove(my_list[idx])\n",
    "    return li"
   ]
  },
  {
   "cell_type": "code",
   "execution_count": 50,
   "metadata": {},
   "outputs": [
    {
     "name": "stdout",
     "output_type": "stream",
     "text": [
      "[1, 2, 3, 5]\n",
      "[1, 2, 3, 4, 5]\n"
     ]
    }
   ],
   "source": [
    "my_list = [1, 2, 3, 4, 5]\n",
    "idx = 3\n",
    "new_list = delete_at(my_list, idx)\n",
    "print(new_list)\n",
    "print(my_list)"
   ]
  },
  {
   "cell_type": "code",
   "execution_count": 53,
   "metadata": {},
   "outputs": [
    {
     "name": "stdout",
     "output_type": "stream",
     "text": [
      "a=10 - b=89\n"
     ]
    }
   ],
   "source": [
    "a = 89\n",
    "b = 10\n",
    "a,b=b,a\n",
    "print(\"a={:d} - b={:d}\".format(a, b))"
   ]
  },
  {
   "cell_type": "code",
   "execution_count": null,
   "metadata": {},
   "outputs": [],
   "source": [
    "if __name__ == '__main__':\n",
    "    import sys\n",
    "    sum = 0\n",
    "    for i in range(len(sys.argv)):\n",
    "        if i == 1:\n",
    "            continue\n",
    "        sum += sys.argv[i]\n"
   ]
  }
 ],
 "metadata": {
  "kernelspec": {
   "display_name": "Python 3",
   "language": "python",
   "name": "python3"
  },
  "language_info": {
   "codemirror_mode": {
    "name": "ipython",
    "version": 3
   },
   "file_extension": ".py",
   "mimetype": "text/x-python",
   "name": "python",
   "nbconvert_exporter": "python",
   "pygments_lexer": "ipython3",
   "version": "3.8.10"
  },
  "orig_nbformat": 4
 },
 "nbformat": 4,
 "nbformat_minor": 2
}
